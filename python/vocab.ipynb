{
 "nbformat": 4,
 "nbformat_minor": 2,
 "metadata": {
  "language_info": {
   "name": "python",
   "codemirror_mode": {
    "name": "ipython",
    "version": 3
   },
   "version": "3.7.4-final"
  },
  "orig_nbformat": 2,
  "file_extension": ".py",
  "mimetype": "text/x-python",
  "name": "python",
  "npconvert_exporter": "python",
  "pygments_lexer": "ipython3",
  "version": 3,
  "kernelspec": {
   "name": "python3",
   "display_name": "Python 3"
  }
 },
 "cells": [
  {
   "cell_type": "markdown",
   "metadata": {},
   "source": [
    "Goal: *Try to get the vocabulary as close to the embeddings as possible.* \n",
    "\n",
    "\n",
    "Notes\n",
    "+ url appears 3907 times in the processed_text_deep\n",
    "+ does not appear in the embeddings\n",
    "+ added column with 'url' removed\n",
    "\n",
    "\n",
    "Results:  \n",
    "+ Found embeddings for 70.81% of vocab  \n",
    "+ Found embeddings for  92.91% of all text"
   ],
   "execution_count": null,
   "outputs": []
  },
  {
   "cell_type": "code",
   "execution_count": null,
   "metadata": {},
   "outputs": [],
   "source": [
    "import pandas as pd\n",
    "from ast import literal_eval\n",
    "import re"
   ]
  },
  {
   "cell_type": "code",
   "execution_count": null,
   "metadata": {},
   "outputs": [],
   "source": [
    "def vocabulary(tweets):\n",
    "    \"\"\"\n",
    "    Creates a dictionary of all the words found in the\n",
    "    given data.\n",
    "\n",
    "    Parameters:\n",
    "        tweets (list): list of strings/words to be added to the dictionary\n",
    "    \n",
    "    Returns:\n",
    "        (dictionary): vocabulary of the words found in the given tweets and the number of occurances for each.\n",
    "    \"\"\"\n",
    "    voc = {}\n",
    "    for tweet in tweets:\n",
    "        for word in tweet.split():\n",
    "            if word in voc:\n",
    "                voc[word] += 1\n",
    "            else:\n",
    "                voc[word] = 1\n",
    "    return voc"
   ]
  },
  {
   "cell_type": "code",
   "execution_count": null,
   "metadata": {},
   "outputs": [],
   "source": [
    "def differ(voc, emb):\n",
    "    \"\"\"\n",
    "    Check the difference of the vocabulary and the embeddings.\n",
    "\n",
    "    Parameters:\n",
    "        voc (dictionary): vocabulary used in tuning of the deep learning algorithm.\n",
    "        emb (set): embeddings used in pretraining.\n",
    "\n",
    "    Returns:\n",
    "        (dictionary): words in vocabulary not found in the embeddings sorted by value.\n",
    "    \"\"\"\n",
    "    notfound = {}\n",
    "    found = {}\n",
    "    countNotFound = 0 # total number of occurances of words not found\n",
    "    countFound = 0 # total number of occurances of words found\n",
    "    for word in voc:\n",
    "        if not (word in emb):\n",
    "            notfound[word] = voc[word]\n",
    "            countNotFound += voc[word]\n",
    "        else:\n",
    "            found[word] = voc[word]\n",
    "            countFound += voc[word]\n",
    "\n",
    "    print('Found embeddings for {:.2%} of vocab'.format(len(found) / len(voc)))\n",
    "    print('Found embeddings for  {:.2%} of all text'.format(countFound / (countFound + countNotFound)))\n",
    "    return notfound"
   ]
  },
  {
   "cell_type": "code",
   "execution_count": null,
   "metadata": {},
   "outputs": [],
   "source": [
    "# load vocabulary/embeddings used in pretraining\n",
    "with open('../dictionaries/vocab.txt') as f:\n",
    "    emb = {line.strip() for line in f}"
   ]
  },
  {
   "cell_type": "code",
   "execution_count": null,
   "metadata": {},
   "outputs": [],
   "source": [
    "# load dataset used for tuning\n",
    "tweets_df = pd.read_csv('../dataset/train_dropduplicates.csv')\n",
    "tweets_df"
   ]
  },
  {
   "cell_type": "code",
   "execution_count": null,
   "metadata": {},
   "outputs": [],
   "source": [
    "# create the vocabulary based on a processed column from the dataset\n",
    "tweets = [str(tweet).lower() for tweet in tweets_df['processed_text_deep_without_url']]\n",
    "voc = vocabulary(tweets)"
   ]
  },
  {
   "cell_type": "code",
   "execution_count": null,
   "metadata": {},
   "outputs": [],
   "source": [
    "d = differ(voc, emb)\n",
    "sorted(d.items(), key=lambda x:x[1], reverse=True)"
   ]
  },
  {
   "cell_type": "code",
   "execution_count": null,
   "metadata": {},
   "outputs": [],
   "source": [
    "# load dataset used for tuning\n",
    "tweets_df = pd.read_csv('../dataset/test_processed.csv')\n",
    "for index, row in tweets_df.iterrows():\n",
    "    tweets_df.at[index, 'processed_text_deep_without_url'] = row['processed_text_deep'].replace('url', '')"
   ]
  }
 ]
}