{
 "nbformat": 4,
 "nbformat_minor": 2,
 "metadata": {
  "language_info": {
   "name": "python",
   "codemirror_mode": {
    "name": "ipython",
    "version": 3
   },
   "version": "3.7.4-final"
  },
  "orig_nbformat": 2,
  "file_extension": ".py",
  "mimetype": "text/x-python",
  "name": "python",
  "npconvert_exporter": "python",
  "pygments_lexer": "ipython3",
  "version": 3,
  "kernelspec": {
   "name": "python3",
   "display_name": "Python 3"
  }
 },
 "cells": [
  {
   "cell_type": "code",
   "execution_count": null,
   "metadata": {},
   "outputs": [],
   "source": [
    "import pandas as pd"
   ]
  },
  {
   "cell_type": "code",
   "execution_count": null,
   "metadata": {},
   "outputs": [],
   "source": [
    "df = pd.read_csv('../dataset/train_processed.csv')\n",
    "df.set_index('id', inplace=True)"
   ]
  },
  {
   "cell_type": "code",
   "execution_count": null,
   "metadata": {},
   "outputs": [],
   "source": [
    "ek_df = pd.read_csv('../dataset/train_ekphrasis.csv')\n",
    "ek_df.set_index('id', inplace=True)\n",
    "ek_df.rename(columns = {'lemmatization':'ekphrasis_lemmatization', 'stemming':'ekphrasis_stemming'}, inplace = True) "
   ]
  },
  {
   "cell_type": "code",
   "execution_count": null,
   "metadata": {},
   "outputs": [],
   "source": [
    "ek_df[['ekphrasis', 'ekphrasis_rm',\n",
    "       'ekphrasis_lemmatization', 'ekphrasis_stemming',\n",
    "       'ekphrasis_no_symtags']]"
   ]
  },
  {
   "cell_type": "code",
   "execution_count": null,
   "metadata": {},
   "outputs": [],
   "source": [
    "df = df.join(ek_df[['ekphrasis', 'ekphrasis_rm', 'ekphrasis_lemmatization', 'ekphrasis_stemming', 'ekphrasis_no_symtags']])"
   ]
  },
  {
   "cell_type": "code",
   "execution_count": null,
   "metadata": {},
   "outputs": [],
   "source": [
    "df.columns"
   ]
  },
  {
   "cell_type": "code",
   "execution_count": null,
   "metadata": {},
   "outputs": [],
   "source": [
    "# change order of columns\n",
    "df = df[['keyword', 'location', 'text', 'target', 'location_processed', 'no_punk_no_abb', 'processed', 'lemmatization', 'stemming',  \n",
    "         'ekphrasis', 'ekphrasis_no_symtags', 'ekphrasis_rm', 'ekphrasis_lemmatization', 'ekphrasis_stemming', 'ekphrasis_no_symtags']]\n",
    "df"
   ]
  },
  {
   "cell_type": "code",
   "execution_count": null,
   "metadata": {},
   "outputs": [],
   "source": [
    "df.to_csv('../dataset/train_processed_all.csv')"
   ]
  }
 ]
}