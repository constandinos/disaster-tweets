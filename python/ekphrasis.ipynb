{
 "nbformat": 4,
 "nbformat_minor": 2,
 "metadata": {
  "language_info": {
   "name": "python",
   "codemirror_mode": {
    "name": "ipython",
    "version": 3
   },
   "version": "3.7.4-final"
  },
  "orig_nbformat": 2,
  "file_extension": ".py",
  "mimetype": "text/x-python",
  "name": "python",
  "npconvert_exporter": "python",
  "pygments_lexer": "ipython3",
  "version": 3,
  "kernelspec": {
   "name": "python3",
   "display_name": "Python 3"
  }
 },
 "cells": [
  {
   "cell_type": "code",
   "execution_count": null,
   "metadata": {},
   "outputs": [],
   "source": [
    "import pandas as pd\n",
    "import string\n",
    "\n",
    "import nltk\n",
    "from nltk.corpus import stopwords\n",
    "from nltk.stem import PorterStemmer\n",
    "from nltk.stem import WordNetLemmatizer\n",
    "\n",
    "nltk.download('stopwords')\n",
    "nltk.download('punkt')\n",
    "nltk.download('wordnet')"
   ]
  },
  {
   "cell_type": "code",
   "execution_count": null,
   "metadata": {},
   "outputs": [],
   "source": [
    "def removePunctuation(tweet):\n",
    "    \"\"\"\n",
    "    Removes punctuations (removes # as well).\n",
    "\n",
    "    \"\"\"\n",
    "    translator = str.maketrans(string.punctuation, ' '*len(string.punctuation))\n",
    "    return tweet.translate(translator)\n",
    "\n",
    "def removeNums(tweet):\n",
    "    \"\"\"\n",
    "    Removes numeric values from the given string.  \n",
    "    \"\"\"\n",
    "    return ''.join([char for char in tweet if not char.isdigit()])"
   ]
  },
  {
   "cell_type": "code",
   "execution_count": null,
   "metadata": {},
   "outputs": [],
   "source": [
    "def stemming(tweet_list):\n",
    "    \"\"\"\n",
    "    Stemming - reduces the word-forms by removing suffixes.\n",
    "\n",
    "    \"\"\"\n",
    "    return [PorterStemmer().stem(word) for word in tweet_list]\n",
    "\n",
    "def lemmatization(tweet_list):\n",
    "    \"\"\"\n",
    "    Lemmatization - reduces the word-forms to linguistically valid lemmas.\n",
    "\n",
    "    \"\"\"\n",
    "    return [WordNetLemmatizer().lemmatize(word) for word in tweet_list]\n",
    "\n",
    "\n",
    "def removeStopWords(tweet_list):\n",
    "    \"\"\"\n",
    "    Removes stop-words from the given tweet.\n",
    "\n",
    "    \"\"\"\n",
    "    return [word for word in tweet_list if word not in stopwords.words('english')]"
   ]
  },
  {
   "cell_type": "code",
   "execution_count": null,
   "metadata": {},
   "outputs": [],
   "source": [
    "from ekphrasis.classes.preprocessor import TextPreProcessor\n",
    "from ekphrasis.classes.tokenizer import SocialTokenizer\n",
    "from ekphrasis.dicts.emoticons import emoticons\n",
    "from ekphrasis.dicts.noslang.slangdict import slangdict\n",
    "\n",
    "text_processor = TextPreProcessor(\n",
    "    # terms that will be normalized\n",
    "    normalize=['url', 'email', 'percent', 'money', 'phone', 'user',\n",
    "        'time', 'url', 'date', 'number'],\n",
    "    # terms that will be annotated\n",
    "    #annotate={\"hashtag\", \"allcaps\", \"elongated\", \"repeated\",\n",
    "    #    'emphasis', 'censored'},\n",
    "    fix_html=True,  # fix HTML tokens\n",
    "    \n",
    "    # corpus from which the word statistics are going to be used \n",
    "    # for word segmentation \n",
    "    segmenter=\"twitter\", \n",
    "    \n",
    "    # corpus from which the word statistics are going to be used \n",
    "    # for spell correction\n",
    "    corrector=\"twitter\", \n",
    "    \n",
    "    unpack_hashtags=True,  # perform word segmentation on hashtags\n",
    "    unpack_contractions=True,  # Unpack contractions (can't -> can not)\n",
    "    spell_correct_elong=True,  # spell correction for elongated words\n",
    "    \n",
    "    # select a tokenizer. You can use SocialTokenizer, or pass your own\n",
    "    # the tokenizer, should take as input a string and return a list of tokens\n",
    "    tokenizer=SocialTokenizer(lowercase=True).tokenize,\n",
    "    \n",
    "    # list of dictionaries, for replacing tokens extracted from the text,\n",
    "    # with other expressions. You can pass more than one dictionaries.\n",
    "    dicts=[emoticons, ] # slangdict\n",
    ")"
   ]
  },
  {
   "cell_type": "code",
   "execution_count": null,
   "metadata": {},
   "outputs": [],
   "source": [
    "train_df = pd.read_csv('../dataset/train.csv')\n",
    "train_df.set_index('id', inplace=True)\n",
    "train_df"
   ]
  },
  {
   "cell_type": "code",
   "execution_count": null,
   "metadata": {},
   "outputs": [],
   "source": [
    "for index, row in train_df.iterrows():\n",
    "    train_df.at[index, 'ekphrasis'] = ' '.join(text_processor.pre_process_doc(row['text']))\n",
    "    train_df.at[index, 'ekphrasis_no_symtags'] = train_df.at[index, 'ekphrasis'].remove('>', '').remove('<', '')\n",
    "    tags = ['<url>', '<email>', '<percent>', '<money>', '<phone>', '<user>', '<time>', '<date>', '<number>']\n",
    "    text = row['ekphrasis']\n",
    "    for t in tags:\n",
    "       text  = text.replace(t, '')\n",
    "    train_df.at[index, 'ekphrasis_rm'] = removeNums(removePunctuation(text))\n",
    "\n",
    "    text = removeStopWords(row['ekphrasis_rm'].split())\n",
    "    train_df.at[index, 'lemmatization'] = ' '.join(lemmatization(text))\n",
    "    train_df.at[index, 'stemming'] = ' '.join(stemming(text))\n",
    "\n",
    "    print(\"record #{} processing finished\".format(index))"
   ]
  },
  {
   "cell_type": "code",
   "execution_count": null,
   "metadata": {},
   "outputs": [],
   "source": [
    "train_df"
   ]
  },
  {
   "cell_type": "code",
   "execution_count": null,
   "metadata": {},
   "outputs": [],
   "source": [
    "train_df.to_csv('train_ekphrasis.csv')"
   ]
  }
 ]
}